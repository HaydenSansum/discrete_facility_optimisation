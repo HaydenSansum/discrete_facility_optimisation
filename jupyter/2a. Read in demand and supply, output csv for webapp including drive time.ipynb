{
 "cells": [
  {
   "cell_type": "markdown",
   "metadata": {},
   "source": [
    "Given `demand.csv` and `supply.csv` as defined in the previous file, perform travel time lookups and output a final data file for import into the webapp"
   ]
  },
  {
   "cell_type": "code",
   "execution_count": 7,
   "metadata": {
    "collapsed": false
   },
   "outputs": [],
   "source": [
    "import pandas as pd \n",
    "demand_df = pd.read_csv(\"demand2.csv\")\n",
    "supply_df = pd.read_csv(\"supply2.csv\")"
   ]
  },
  {
   "cell_type": "code",
   "execution_count": 17,
   "metadata": {
    "collapsed": false
   },
   "outputs": [],
   "source": [
    "import itertools \n",
    "import requests\n",
    "import json\n",
    "\n",
    "import psycopg2\n",
    "import pandas as pd\n",
    "from random import randint\n",
    "import requests\n",
    "import json\n",
    "\n",
    "conn_string = \"host='localhost' dbname='postgres' user='postgres' password=''\"\n",
    "conn = psycopg2.connect(conn_string)\n",
    "cur = conn.cursor()\n",
    "\n",
    "def cartesian(df1, df2):\n",
    "    rows = itertools.product(df1.iterrows(), df2.iterrows())\n",
    "    df = pd.DataFrame(left.append(right) for (_, left), (_, right) in rows)\n",
    "    return df.reset_index(drop=True)\n",
    "\n",
    "def get_distance_duration_from_google_maps(source_lat, source_lng, dest_lat, dest_lng):\n",
    "    url = \"https://maps.googleapis.com/maps/api/distancematrix/json?origins={source_lat},{source_lng}&destinations={dest_lat},{dest_lng}\"\\\n",
    "    .format(**locals())\n",
    "    \n",
    "    r = requests.get(url)\n",
    "    d = json.loads(r.content)\n",
    "    \n",
    "    return_dict = {}\n",
    "    \n",
    "    return_dict[\"distance_route_km\"] = d[\"rows\"][0][\"elements\"][0][\"distance\"][\"value\"]/1000.0\n",
    "    return_dict[\"duration_min\"] = d[\"rows\"][0][\"elements\"][0][\"duration\"][\"value\"]/60.\n",
    "\n",
    "    return return_dict\n",
    "\n",
    "def get_distance_crow_flies(source_lat, source_lng, dest_lat, dest_lng):\n",
    "\n",
    "    sql = \"\"\"\n",
    "        select st_distance(\n",
    "            ST_Transform(ST_SetSRID(ST_MakePoint({source_lng}, {source_lat}), 4326), 27700),\n",
    "            ST_Transform(ST_SetSRID(ST_MakePoint({dest_lng}, {dest_lat}), 4326), 27700)\n",
    "        ) as distance\n",
    "    \"\"\"\n",
    "    \n",
    "    cur.execute(sql.format(**locals()))\n",
    "    \n",
    "    return {\"distance_crowflies_km\":  cur.fetchone()[0]/1000.0}"
   ]
  },
  {
   "cell_type": "code",
   "execution_count": 18,
   "metadata": {
    "collapsed": false
   },
   "outputs": [],
   "source": [
    "all_data = cartesian(demand_df, supply_df)"
   ]
  },
  {
   "cell_type": "code",
   "execution_count": 19,
   "metadata": {
    "collapsed": false
   },
   "outputs": [
    {
     "data": {
      "text/html": [
       "<div>\n",
       "<table border=\"1\" class=\"dataframe\">\n",
       "  <thead>\n",
       "    <tr style=\"text-align: right;\">\n",
       "      <th></th>\n",
       "      <th>demand</th>\n",
       "      <th>demand_id</th>\n",
       "      <th>demand_lat</th>\n",
       "      <th>demand_lng</th>\n",
       "      <th>demand_name</th>\n",
       "      <th>supply</th>\n",
       "      <th>supply_id</th>\n",
       "      <th>supply_lat</th>\n",
       "      <th>supply_lng</th>\n",
       "      <th>supply_name</th>\n",
       "    </tr>\n",
       "  </thead>\n",
       "  <tbody>\n",
       "    <tr>\n",
       "      <th>0</th>\n",
       "      <td>1.787117</td>\n",
       "      <td>0</td>\n",
       "      <td>54.358915</td>\n",
       "      <td>-1.500136</td>\n",
       "      <td>Moor Ln</td>\n",
       "      <td>23.129454</td>\n",
       "      <td>0</td>\n",
       "      <td>54.006112</td>\n",
       "      <td>-1.765183</td>\n",
       "      <td>W End</td>\n",
       "    </tr>\n",
       "    <tr>\n",
       "      <th>1</th>\n",
       "      <td>1.787117</td>\n",
       "      <td>0</td>\n",
       "      <td>54.358915</td>\n",
       "      <td>-1.500136</td>\n",
       "      <td>Moor Ln</td>\n",
       "      <td>9.086671</td>\n",
       "      <td>1</td>\n",
       "      <td>53.675891</td>\n",
       "      <td>-0.798627</td>\n",
       "      <td>Old Ln</td>\n",
       "    </tr>\n",
       "    <tr>\n",
       "      <th>2</th>\n",
       "      <td>1.787117</td>\n",
       "      <td>0</td>\n",
       "      <td>54.358915</td>\n",
       "      <td>-1.500136</td>\n",
       "      <td>Moor Ln</td>\n",
       "      <td>16.996740</td>\n",
       "      <td>2</td>\n",
       "      <td>54.596251</td>\n",
       "      <td>-2.047993</td>\n",
       "      <td>Bail Hill</td>\n",
       "    </tr>\n",
       "    <tr>\n",
       "      <th>3</th>\n",
       "      <td>1.787117</td>\n",
       "      <td>0</td>\n",
       "      <td>54.358915</td>\n",
       "      <td>-1.500136</td>\n",
       "      <td>Moor Ln</td>\n",
       "      <td>23.233394</td>\n",
       "      <td>3</td>\n",
       "      <td>54.383008</td>\n",
       "      <td>-0.740024</td>\n",
       "      <td>Hunt House</td>\n",
       "    </tr>\n",
       "    <tr>\n",
       "      <th>4</th>\n",
       "      <td>1.787117</td>\n",
       "      <td>0</td>\n",
       "      <td>54.358915</td>\n",
       "      <td>-1.500136</td>\n",
       "      <td>Moor Ln</td>\n",
       "      <td>24.844762</td>\n",
       "      <td>4</td>\n",
       "      <td>51.347277</td>\n",
       "      <td>-2.766857</td>\n",
       "      <td>Half Yard</td>\n",
       "    </tr>\n",
       "  </tbody>\n",
       "</table>\n",
       "</div>"
      ],
      "text/plain": [
       "     demand  demand_id  demand_lat  demand_lng demand_name     supply  \\\n",
       "0  1.787117          0   54.358915   -1.500136     Moor Ln  23.129454   \n",
       "1  1.787117          0   54.358915   -1.500136     Moor Ln   9.086671   \n",
       "2  1.787117          0   54.358915   -1.500136     Moor Ln  16.996740   \n",
       "3  1.787117          0   54.358915   -1.500136     Moor Ln  23.233394   \n",
       "4  1.787117          0   54.358915   -1.500136     Moor Ln  24.844762   \n",
       "\n",
       "   supply_id  supply_lat  supply_lng supply_name  \n",
       "0          0   54.006112   -1.765183       W End  \n",
       "1          1   53.675891   -0.798627      Old Ln  \n",
       "2          2   54.596251   -2.047993   Bail Hill  \n",
       "3          3   54.383008   -0.740024  Hunt House  \n",
       "4          4   51.347277   -2.766857   Half Yard  "
      ]
     },
     "execution_count": 19,
     "metadata": {},
     "output_type": "execute_result"
    }
   ],
   "source": [
    "all_data.head()"
   ]
  },
  {
   "cell_type": "code",
   "execution_count": 20,
   "metadata": {
    "collapsed": true
   },
   "outputs": [],
   "source": [
    "def lat_lng_to_metrics(source_lat, source_lng, dest_lat, dest_lng):\n",
    "    \"\"\"\n",
    "    Given source and dest coordinates, get travel time, route distance, \n",
    "    and distance as the crow flies and return as dict\n",
    "    \"\"\"\n",
    "    d1 = get_distance_duration_from_google_maps(source_lat, source_lng, dest_lat, dest_lng)\n",
    "    d2 = get_distance_crow_flies(source_lat, source_lng, dest_lat, dest_lng)\n",
    "    d1.update(d2)\n",
    "    return d1   "
   ]
  },
  {
   "cell_type": "code",
   "execution_count": 21,
   "metadata": {
    "collapsed": false
   },
   "outputs": [],
   "source": [
    "for r in all_data.iterrows():\n",
    "    index = r[0]\n",
    "    row = r[1]\n",
    "    \n",
    "    metrics = lat_lng_to_metrics(row[\"demand_lat\"], row[\"demand_lng\"], row[\"supply_lat\"], row[\"supply_lng\"])\n",
    "    \n",
    "    for key, value in metrics.iteritems(): \n",
    "        all_data.loc[index, key] = value"
   ]
  },
  {
   "cell_type": "code",
   "execution_count": 22,
   "metadata": {
    "collapsed": false
   },
   "outputs": [],
   "source": [
    "all_data.to_csv(\"all_data2.csv\", index=False)"
   ]
  },
  {
   "cell_type": "code",
   "execution_count": null,
   "metadata": {
    "collapsed": false
   },
   "outputs": [],
   "source": [
    "print \"\\n\".join(list(all_data.columns))"
   ]
  },
  {
   "cell_type": "code",
   "execution_count": null,
   "metadata": {
    "collapsed": true
   },
   "outputs": [],
   "source": []
  }
 ],
 "metadata": {
  "anaconda-cloud": {},
  "kernelspec": {
   "display_name": "Python [default]",
   "language": "python",
   "name": "python2"
  },
  "language_info": {
   "codemirror_mode": {
    "name": "ipython",
    "version": 2
   },
   "file_extension": ".py",
   "mimetype": "text/x-python",
   "name": "python",
   "nbconvert_exporter": "python",
   "pygments_lexer": "ipython2",
   "version": "2.7.12"
  }
 },
 "nbformat": 4,
 "nbformat_minor": 1
}
