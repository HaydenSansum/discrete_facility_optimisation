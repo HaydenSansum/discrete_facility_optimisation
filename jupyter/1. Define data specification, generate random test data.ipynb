{
 "cells": [
  {
   "cell_type": "markdown",
   "metadata": {},
   "source": [
    "This script defines the required data format.\n",
    "It then creates a small test dataset, and outputs to two files:\n",
    "\n",
    "- supply.csv\n",
    "- demand.csv"
   ]
  },
  {
   "cell_type": "code",
   "execution_count": 17,
   "metadata": {
    "collapsed": true
   },
   "outputs": [],
   "source": [
    "# Spec for raw data:\n",
    "\n",
    "demand_table = {\n",
    "    \"demand_id\": \"Unique identifier for demand source\",\n",
    "    \"demand_name\": \"The name of the demand source\",\n",
    "    \"demand_lat\": \"Latitude of the point representing the source of demand\",\n",
    "    \"demand_lng\": \"Longitude of the point representing the source of demand\",\n",
    "    \"demand\": \"The total demand for facilities coming from this point\"\n",
    "}\n",
    "\n",
    "supply_table = {\n",
    "    \"supply_id\": \"Unique identifier for supply source\",\n",
    "    \"supply_name\": \"The name of the supply source\",\n",
    "    \"supply_lat\": \"Latitude of the point representing the supply\",\n",
    "    \"supply_lng\": \"Longitude of the point representing the supply\",\n",
    "    \"supply\": \"The total supply\"\n",
    "}\n",
    "\n",
    "\n",
    "data_table = {\n",
    "    \"demand_id\": \"Unique identifier for demand source\",\n",
    "    \"supply_id\": \"Unique identifier for supply source\",\n",
    "    \"distance_route_km\": \"Distance in kilometers between demand and supply points\",\n",
    "    \"distance_crowflies_km\" : \"Distance in kilometers as the crow flies\",\n",
    "    \"duration_min\": \"Duration in minutes between demand and supply points\"\n",
    "}"
   ]
  },
  {
   "cell_type": "code",
   "execution_count": 18,
   "metadata": {
    "collapsed": false
   },
   "outputs": [],
   "source": [
    "import random\n",
    "import numpy as np \n",
    "import pandas as pd \n",
    "import itertools"
   ]
  },
  {
   "cell_type": "code",
   "execution_count": 19,
   "metadata": {
    "collapsed": false
   },
   "outputs": [
    {
     "data": {
      "text/plain": [
       "{'lat': 54.1729068017646, 'lng': -2.39716555015046, 'name': u' Carnforth'}"
      ]
     },
     "execution_count": 19,
     "metadata": {},
     "output_type": "execute_result"
    }
   ],
   "source": [
    "from random_point import get_random_point_geography\n",
    "total_supply = 100\n",
    "\n",
    "num_demand_points = 140\n",
    "random_factor = 0.5\n",
    "num_supply_points = 12\n",
    "get_random_point_geography()"
   ]
  },
  {
   "cell_type": "code",
   "execution_count": 20,
   "metadata": {
    "collapsed": false
   },
   "outputs": [],
   "source": [
    "demand_rows = []\n",
    "\n",
    "for i in range(num_demand_points):\n",
    "    demand_row = {}\n",
    "    demand_point = get_random_point_geography()\n",
    "    demand_row[\"demand_id\"] = i\n",
    "    demand_row[\"demand_name\"] = demand_point[\"name\"]\n",
    "    demand_row[\"demand_lat\"] = demand_point[\"lat\"]\n",
    "    demand_row[\"demand_lng\"] = demand_point[\"lng\"]\n",
    "    demand_row[\"demand\"] = random.uniform(1-random_factor,1+random_factor) * (total_supply*1.0/num_demand_points)\n",
    "    demand_rows.append(demand_row)"
   ]
  },
  {
   "cell_type": "code",
   "execution_count": 21,
   "metadata": {
    "collapsed": true
   },
   "outputs": [],
   "source": [
    "demand_rows_df = pd.DataFrame(demand_rows)"
   ]
  },
  {
   "cell_type": "code",
   "execution_count": 22,
   "metadata": {
    "collapsed": false
   },
   "outputs": [],
   "source": [
    "supply_rows = []\n",
    "for i in range(num_supply_points):\n",
    "    supply_row = {}\n",
    "    supply_point = get_random_point_geography()\n",
    "    supply_row[\"supply_id\"] = i\n",
    "    supply_row[\"supply_name\"] = supply_point[\"name\"]\n",
    "    supply_row[\"supply_lat\"] = supply_point[\"lat\"]\n",
    "    supply_row[\"supply_lng\"] = supply_point[\"lng\"]\n",
    "    supply_row[\"supply\"] = random.uniform(1-random_factor,1+random_factor) * (total_supply*1.0/num_supply_points)\n",
    "    supply_rows.append(supply_row)"
   ]
  },
  {
   "cell_type": "code",
   "execution_count": 23,
   "metadata": {
    "collapsed": true
   },
   "outputs": [],
   "source": [
    "supply_rows_df = pd.DataFrame(supply_rows)"
   ]
  },
  {
   "cell_type": "code",
   "execution_count": 24,
   "metadata": {
    "collapsed": false
   },
   "outputs": [],
   "source": [
    "demand_rows_df.to_csv(\"demand3.csv\", index=False)\n",
    "supply_rows_df.to_csv(\"supply3.csv\", index=False)"
   ]
  },
  {
   "cell_type": "code",
   "execution_count": null,
   "metadata": {
    "collapsed": true
   },
   "outputs": [],
   "source": []
  }
 ],
 "metadata": {
  "anaconda-cloud": {},
  "kernelspec": {
   "display_name": "Python [default]",
   "language": "python",
   "name": "python2"
  },
  "language_info": {
   "codemirror_mode": {
    "name": "ipython",
    "version": 2
   },
   "file_extension": ".py",
   "mimetype": "text/x-python",
   "name": "python",
   "nbconvert_exporter": "python",
   "pygments_lexer": "ipython2",
   "version": "2.7.12"
  }
 },
 "nbformat": 4,
 "nbformat_minor": 1
}
